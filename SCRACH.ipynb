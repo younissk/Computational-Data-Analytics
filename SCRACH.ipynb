{
 "cells": [
  {
   "cell_type": "code",
   "execution_count": 2,
   "id": "6d6489c5",
   "metadata": {},
   "outputs": [],
   "source": [
    "import numpy as np\n",
    "from scipy.stats import friedmanchisquare\n",
    "import scikit_posthocs as sp\n"
   ]
  },
  {
   "cell_type": "code",
   "execution_count": null,
   "id": "2a5fced4",
   "metadata": {},
   "outputs": [
    {
     "name": "stdout",
     "output_type": "stream",
     "text": [
      "Friedman chi-square = 8.867, p = 0.0119\n",
      "\n",
      "Nemenyi post-hoc comparison (p-values):\n",
      "          0         1         2\n",
      "0  1.000000  0.806391  0.084822\n",
      "1  0.806391  1.000000  0.016420\n",
      "2  0.084822  0.016420  1.000000\n"
     ]
    }
   ],
   "source": [
    "\n",
    "# Example accuracy table (rows = datasets, columns = classifiers)\n",
    "data = np.array([\n",
    "#    JRip,JRip-p,  CR\n",
    "\n",
    "    [0.77, 0.84, 0.77], # labor\n",
    "    [0.87, 0.87, 0.59], # zoo\n",
    "    [0.95, 0.93, 0.67], # iris\n",
    "    [0.78, 0.81, 0.79], # hepatitis\n",
    "    [0.73, 0.86, 0.44], # Autos \n",
    "    [0.71, 0.73, 0.57], #beast-cancer\n",
    "    [0.95, 0.94, 0.92], # berast-w\n",
    "    [0.76, 0.73, 0.69] # Diabetes\n",
    "])\n",
    "\n",
    "# Friedman test (non-parametric ANOVA)\n",
    "stat, p = friedmanchisquare(*data.T)\n",
    "print(f\"Friedman chi-square = {stat:.3f}, p = {p:.4f}\")\n"
   ]
  },
  {
   "cell_type": "code",
   "execution_count": null,
   "id": "49228f79",
   "metadata": {},
   "outputs": [],
   "source": []
  }
 ],
 "metadata": {
  "kernelspec": {
   "display_name": "base",
   "language": "python",
   "name": "python3"
  },
  "language_info": {
   "codemirror_mode": {
    "name": "ipython",
    "version": 3
   },
   "file_extension": ".py",
   "mimetype": "text/x-python",
   "name": "python",
   "nbconvert_exporter": "python",
   "pygments_lexer": "ipython3",
   "version": "3.12.3"
  }
 },
 "nbformat": 4,
 "nbformat_minor": 5
}
